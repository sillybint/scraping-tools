{
 "cells": [
  {
   "cell_type": "markdown",
   "id": "3958d9a1-c293-4a06-8cbc-9523fe960de7",
   "metadata": {},
   "source": [
    "# Notebook for Scraping Reddit\n",
    "\n",
    "### Imports"
   ]
  },
  {
   "cell_type": "code",
   "execution_count": 9,
   "id": "74e4f030-058d-48cc-9ec0-4e5721d983e2",
   "metadata": {
    "jupyter": {
     "source_hidden": true
    },
    "tags": []
   },
   "outputs": [],
   "source": [
    "from ipywidgets import interact, interactive, fixed, interact_manual\n",
    "import ipywidgets as widgets\n",
    "import praw\n",
    "import mimetypes\n",
    "from time import sleep\n",
    "import requests\n",
    "import pathlib\n",
    "import shutil"
   ]
  },
  {
   "cell_type": "markdown",
   "id": "9ee8e2d5-5e9a-45e1-ac33-5a620c08f30b",
   "metadata": {},
   "source": [
    "### Input Reddit App Info"
   ]
  },
  {
   "cell_type": "code",
   "execution_count": 16,
   "id": "63c12db8-1d4f-4431-88b9-6be36cc5181d",
   "metadata": {
    "jupyter": {
     "source_hidden": true
    },
    "tags": []
   },
   "outputs": [
    {
     "data": {
      "application/vnd.jupyter.widget-view+json": {
       "model_id": "d55bafee07d14a919e44137af36f9bee",
       "version_major": 2,
       "version_minor": 0
      },
      "text/plain": [
       "Text(value='./scraped', description='Base Directory:', placeholder='./scraped')"
      ]
     },
     "metadata": {},
     "output_type": "display_data"
    }
   ],
   "source": [
    "basedir = widgets.Text(\n",
    "    value='./scraped',\n",
    "    placeholder='./scraped',\n",
    "    description='Base Directory:',\n",
    "    disabled=False   \n",
    ")\n",
    "\n",
    "\n",
    "display(basedir)"
   ]
  },
  {
   "cell_type": "code",
   "execution_count": 10,
   "id": "bb035093-1478-4f3d-9141-89e0e15d4036",
   "metadata": {
    "jupyter": {
     "source_hidden": true
    },
    "tags": []
   },
   "outputs": [
    {
     "data": {
      "application/vnd.jupyter.widget-view+json": {
       "model_id": "27a6eef9e6154f60bb9d1ec356b2a252",
       "version_major": 2,
       "version_minor": 0
      },
      "text/plain": [
       "Text(value='client id', description='Client ID:')"
      ]
     },
     "metadata": {},
     "output_type": "display_data"
    },
    {
     "data": {
      "application/vnd.jupyter.widget-view+json": {
       "model_id": "84e6f7c259e54a66afa5e36aea12938f",
       "version_major": 2,
       "version_minor": 0
      },
      "text/plain": [
       "Text(value='secret', description='Secret:')"
      ]
     },
     "metadata": {},
     "output_type": "display_data"
    },
    {
     "data": {
      "application/vnd.jupyter.widget-view+json": {
       "model_id": "7b51c756ba994135ad32337b870e5301",
       "version_major": 2,
       "version_minor": 0
      },
      "text/plain": [
       "Text(value='useragent', description='User Agent:')"
      ]
     },
     "metadata": {},
     "output_type": "display_data"
    }
   ],
   "source": [
    "id = widgets.Text(value=\"client id\", description=\"Client ID:\")\n",
    "secret = widgets.Text(value=\"secret\", description=\"Secret:\")\n",
    "useragent = widgets.Text(value=\"useragent\", description=\"User Agent:\")\n",
    "display(id)\n",
    "display(secret)\n",
    "display(useragent)"
   ]
  },
  {
   "cell_type": "markdown",
   "id": "7e8975ae-196a-4e85-8214-4acaa63a2f4e",
   "metadata": {},
   "source": [
    "### Connect to Reddit"
   ]
  },
  {
   "cell_type": "code",
   "execution_count": 11,
   "id": "51e31306-a5f3-4437-91cb-1b70f575ec2c",
   "metadata": {
    "jupyter": {
     "source_hidden": true
    },
    "tags": []
   },
   "outputs": [],
   "source": [
    "reddit = praw.Reddit(client_id=id.value, \n",
    "                         client_secret=secret.value, \n",
    "                         user_agent=useragent.value)"
   ]
  },
  {
   "cell_type": "markdown",
   "id": "28aa6826-41d4-4220-acd1-19e15606d62c",
   "metadata": {},
   "source": [
    "### Choose Subreddits to Scrape"
   ]
  },
  {
   "cell_type": "code",
   "execution_count": 28,
   "id": "be4dea18-99b9-40b3-ac46-6e13a6d63be9",
   "metadata": {
    "jupyter": {
     "source_hidden": true
    },
    "tags": []
   },
   "outputs": [
    {
     "data": {
      "application/vnd.jupyter.widget-view+json": {
       "model_id": "0e6c85d3817f4a82835cc6657ce3db73",
       "version_major": 2,
       "version_minor": 0
      },
      "text/plain": [
       "Textarea(value='', description='Subreddits:', placeholder='use space as delimitor, do not include r/')"
      ]
     },
     "metadata": {},
     "output_type": "display_data"
    },
    {
     "data": {
      "application/vnd.jupyter.widget-view+json": {
       "model_id": "76a100f8fe9846a4b3fdab44a8d18820",
       "version_major": 2,
       "version_minor": 0
      },
      "text/plain": [
       "IntText(value=4, description='Min Upvotes:')"
      ]
     },
     "metadata": {},
     "output_type": "display_data"
    },
    {
     "data": {
      "application/vnd.jupyter.widget-view+json": {
       "model_id": "0bc2e487d1cd485eac834b2f9c2b0ec1",
       "version_major": 2,
       "version_minor": 0
      },
      "text/plain": [
       "IntText(value=400, description='Max Posts:')"
      ]
     },
     "metadata": {},
     "output_type": "display_data"
    },
    {
     "data": {
      "application/vnd.jupyter.widget-view+json": {
       "model_id": "9ad8601205594658836ac09e55a709c8",
       "version_major": 2,
       "version_minor": 0
      },
      "text/plain": [
       "Select(description='Subreddits:', index=1, options=('all', 'year', 'month', 'week', 'day'), value='year')"
      ]
     },
     "metadata": {},
     "output_type": "display_data"
    }
   ],
   "source": [
    "subreddits = widgets.Textarea(\n",
    "    value='',\n",
    "    placeholder='use space as delimitor, do not include r/',\n",
    "    description='Subreddits:',\n",
    "    disabled=False   \n",
    ")\n",
    "minvotes = widgets.IntText(value=\"4\",\n",
    "                           description=\"Min Upvotes:\",\n",
    "                           disabled=False)\n",
    "maxposts = widgets.IntText(value=\"400\",\n",
    "                            description=\"Max Posts:\",\n",
    "                            disabled=False)\n",
    "\n",
    "time = widgets.Select(\n",
    "    options=['all','year','month','week','day'],\n",
    "    value='year',\n",
    "    placeholder='year',\n",
    "    description='Subreddits:',\n",
    "    disabled=False   \n",
    ")\n",
    "\n",
    "display(subreddits)\n",
    "display(minvotes)\n",
    "display(maxposts)\n",
    "display(time)"
   ]
  },
  {
   "cell_type": "markdown",
   "id": "a82f01e3-eee1-40f1-b535-b354aa29046f",
   "metadata": {},
   "source": [
    "### Gather Image Links"
   ]
  },
  {
   "cell_type": "code",
   "execution_count": 29,
   "id": "b866d87d-3fe9-4d95-a3bd-1d2f1ad0acaf",
   "metadata": {
    "jupyter": {
     "source_hidden": true
    },
    "tags": []
   },
   "outputs": [],
   "source": [
    "all_images = []\n",
    "for subreddit in subreddits.value.split(' '):\n",
    "    subreddit_images = { \n",
    "                        'subreddit':subreddit,\n",
    "                        'images':[]\n",
    "    }\n",
    "    top_posts = reddit.subreddit(subreddit).top(time_filter=time.value, limit=maxposts.value)\n",
    "    for post in top_posts:\n",
    "        mimetype = mimetypes.guess_type(post.url)[0]\n",
    "        if mimetype is not None:\n",
    "            if ('png' in mimetype or 'jpg' in mimetype or 'jpeg' in mimetype) and post.score > minvotes.value:\n",
    "                image = {'title':'', 'url':'', 'meta':''}\n",
    "                image['title'] = post.title\n",
    "                image['url'] = post.url\n",
    "                subreddit_images['images'].append(image)\n",
    "    all_images.append(subreddit_images)\n"
   ]
  },
  {
   "cell_type": "markdown",
   "id": "32b0825f-b24c-4d3a-b7dc-db139f679050",
   "metadata": {},
   "source": [
    "### Save Images"
   ]
  },
  {
   "cell_type": "code",
   "execution_count": 30,
   "id": "06922289-cf94-4f01-9c8d-d76a505424fb",
   "metadata": {
    "jupyter": {
     "source_hidden": true
    },
    "tags": []
   },
   "outputs": [
    {
     "data": {
      "application/vnd.jupyter.widget-view+json": {
       "model_id": "695d0cc5ba414e909117581889436db0",
       "version_major": 2,
       "version_minor": 0
      },
      "text/plain": [
       "IntProgress(value=0, bar_style='info', description='Scraping\\n dataisbeautiful', max=298, style=ProgressStyle(…"
      ]
     },
     "metadata": {},
     "output_type": "display_data"
    },
    {
     "name": "stdout",
     "output_type": "stream",
     "text": [
      "Done! 😊\n"
     ]
    }
   ],
   "source": [
    "\n",
    "for subreddit in all_images:\n",
    "    progress = widgets.IntProgress(\n",
    "        value=0,\n",
    "        min=0,\n",
    "        max=len(subreddit['images']),\n",
    "        description=f'Scraping\\n {subreddit[\"subreddit\"]}',\n",
    "        bar_style='info', # 'success', 'info', 'warning', 'danger' or ''\n",
    "        style={'bar_color': 'blue'},\n",
    "        orientation='horizontal')\n",
    "    display(progress)\n",
    "    \n",
    "    subdir = \"/\".join([basedir.value, subreddit[\"subreddit\"]])\n",
    "    pathlib.Path(subdir).mkdir(parents=True, exist_ok=True)\n",
    "    counter = 0\n",
    "    for img in subreddit['images']:\n",
    "        counter = counter+1\n",
    "        imgurl = img['url']\n",
    "        title = img['title'].replace(' ','_').replace('/','_')\n",
    "        title = \"\".join(x for x in title if (x.isalnum() or x in \"._- \"))\n",
    "        if len(title) > 200:\n",
    "            title = title[:200]\n",
    "        response = requests.get(imgurl)\n",
    "        if response.status_code == 200:\n",
    "            with open('/'.join([subdir, title])+imgurl[-4:], 'wb') as newfile:\n",
    "                    newfile.write(response.content)\n",
    "            progress.value = progress.value + 1\n",
    "        else:\n",
    "            progress.max = progress.max - 1\n",
    "        if progress.value == progress.max:\n",
    "            print(\"Done! 😊\")\n",
    "                        \n",
    "        del response\n",
    "        if counter == 100:\n",
    "            sleep(1)\n",
    "            counter = 0\n",
    "            \n"
   ]
  },
  {
   "cell_type": "code",
   "execution_count": null,
   "id": "4eaac563-10aa-404a-8b89-d147348b48c9",
   "metadata": {
    "jupyter": {
     "source_hidden": true
    },
    "tags": []
   },
   "outputs": [],
   "source": []
  }
 ],
 "metadata": {
  "kernelspec": {
   "display_name": "scraping",
   "language": "python",
   "name": "scraping"
  },
  "language_info": {
   "codemirror_mode": {
    "name": "ipython",
    "version": 3
   },
   "file_extension": ".py",
   "mimetype": "text/x-python",
   "name": "python",
   "nbconvert_exporter": "python",
   "pygments_lexer": "ipython3",
   "version": "3.11.2"
  },
  "toc-autonumbering": false,
  "toc-showcode": false,
  "toc-showmarkdowntxt": false
 },
 "nbformat": 4,
 "nbformat_minor": 5
}
